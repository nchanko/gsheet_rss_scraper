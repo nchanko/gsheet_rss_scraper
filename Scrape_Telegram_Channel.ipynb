{
  "nbformat": 4,
  "nbformat_minor": 0,
  "metadata": {
    "colab": {
      "provenance": [],
      "authorship_tag": "ABX9TyMVi6nNIkn5RgccRB92MJV6",
      "include_colab_link": true
    },
    "kernelspec": {
      "name": "python3",
      "display_name": "Python 3"
    },
    "language_info": {
      "name": "python"
    }
  },
  "cells": [
    {
      "cell_type": "markdown",
      "metadata": {
        "id": "view-in-github",
        "colab_type": "text"
      },
      "source": [
        "<a href=\"https://colab.research.google.com/github/nchanko/gsheet_rss_scraper/blob/main/Scrape_Telegram_Channel.ipynb\" target=\"_parent\"><img src=\"https://colab.research.google.com/assets/colab-badge.svg\" alt=\"Open In Colab\"/></a>"
      ]
    },
    {
      "cell_type": "code",
      "execution_count": null,
      "metadata": {
        "id": "1ZNlccFvRRf0"
      },
      "outputs": [],
      "source": [
        "!pip install --upgrade pyrogram nest_asyncio"
      ]
    },
    {
      "cell_type": "code",
      "source": [
        "import nest_asyncio\n",
        "import asyncio\n",
        "import pandas as pd\n",
        "from pyrogram import Client\n",
        "from datetime import datetime, timezone\n",
        "import time"
      ],
      "metadata": {
        "id": "w1clojlTSyS7"
      },
      "execution_count": null,
      "outputs": []
    },
    {
      "cell_type": "markdown",
      "source": [
        "Telegram Channel Scraper\n",
        "Script by - Nyein Chan Ko Ko\n",
        "\n",
        "You need to apply api_id, api_hash from telegram .https://core.telegram.org/api/obtaining_api_id"
      ],
      "metadata": {
        "id": "J0SVsU6Rz0d0"
      }
    },
    {
      "cell_type": "markdown",
      "source": [
        "#Scrape By Message Counts"
      ],
      "metadata": {
        "id": "SQoS9kJYBQbv"
      }
    },
    {
      "cell_type": "code",
      "source": [
        "def scrape_by_message(api_id, api_hash, channel_username, limit):\n",
        "    # Allow nested asyncio calls in Google Colab\n",
        "    nest_asyncio.apply()\n",
        "\n",
        "    # Define an async function to get channel messages with a limit\n",
        "    async def get_channel_messages():\n",
        "        async with Client('my_account', api_id=api_id, api_hash=api_hash) as app:\n",
        "            channel_info = await app.get_chat(channel_username)\n",
        "\n",
        "            messages_list = []\n",
        "\n",
        "            # Get messages from the channel with specified limit\n",
        "            print(\"Getting chat histories by messages.\")\n",
        "            async for message in app.get_chat_history(channel_info.id, limit=limit):\n",
        "                messages_list.append({\n",
        "                    'date': message.date,\n",
        "                    'message': message.text\n",
        "                })\n",
        "                # print(f\"{message.date}: {message.text}\")\n",
        "            print(\"Scraping completed.\")\n",
        "\n",
        "        return messages_list\n",
        "\n",
        "    # Run the async function using asyncio\n",
        "    loop = asyncio.get_event_loop()\n",
        "    messages_data = loop.run_until_complete(get_channel_messages())\n",
        "\n",
        "    return messages_data"
      ],
      "metadata": {
        "id": "g4Q2_a5wCBv_"
      },
      "execution_count": null,
      "outputs": []
    },
    {
      "cell_type": "markdown",
      "source": [
        "#Scrape by Date"
      ],
      "metadata": {
        "id": "Oy2sIGnSBN-t"
      }
    },
    {
      "cell_type": "code",
      "source": [
        "def scrape_by_date(api_id, api_hash, channel_username, start_date, end_date):\n",
        "    # Allow nested asyncio calls in Google Colab\n",
        "    nest_asyncio.apply()\n",
        "\n",
        "    # Convert start and end dates to UTC timezone\n",
        "    start_date_utc = start_date.replace(tzinfo=timezone.utc)\n",
        "    end_date_utc = end_date.replace(tzinfo=timezone.utc)\n",
        "\n",
        "    # Define an async function to get channel messages within the specified period\n",
        "    async def get_channel_messages_within_period():\n",
        "        async with Client('my_account', api_id=api_id, api_hash=api_hash) as app:\n",
        "            channel_info = await app.get_chat(channel_username)\n",
        "\n",
        "            messages_list = []\n",
        "            print(\"Getting data by date.\")\n",
        "            # Get messages from the channel\n",
        "            async for message in app.get_chat_history(channel_info.id):\n",
        "                # Convert message.date to UTC timezone\n",
        "                message_date_utc = message.date.replace(tzinfo=timezone.utc)\n",
        "\n",
        "                # Collect messages within the specified period\n",
        "                if start_date_utc <= message_date_utc <= end_date_utc:\n",
        "                    messages_list.append({\n",
        "                        'date': message_date_utc,\n",
        "                        'message': message.text\n",
        "                    })\n",
        "\n",
        "                # Break the loop if the message date is earlier than the start date\n",
        "                if message_date_utc < start_date_utc:\n",
        "                    break\n",
        "            print(\"Scraping completed.\")\n",
        "            return messages_list\n",
        "\n",
        "    # Run the async function using asyncio\n",
        "    loop = asyncio.get_event_loop()\n",
        "    messages_data = loop.run_until_complete(get_channel_messages_within_period())\n",
        "    return messages_data"
      ],
      "metadata": {
        "id": "rQU0d7LdARHc"
      },
      "execution_count": null,
      "outputs": []
    },
    {
      "cell_type": "markdown",
      "source": [
        "#Save to Sheet."
      ],
      "metadata": {
        "id": "-5rOjhIYG-KK"
      }
    },
    {
      "cell_type": "code",
      "source": [
        "from google.colab import auth\n",
        "auth.authenticate_user()\n",
        "\n",
        "import gspread\n",
        "from google.auth import default\n",
        "creds, _ = default()\n",
        "\n",
        "def save_to_sheet(df,sheetname, sheet_address):\n",
        "\n",
        "  gc = gspread.authorize(creds)\n",
        "  wb = gc.open_by_url(sheet_address)\n",
        "  sheet = wb.worksheet(sheetname)\n",
        "  # get_all_values gives a list of rows.\n",
        "  print(\"loading gsheet data..\")\n",
        "  data = sheet.get_all_values()\n",
        "\n",
        "  # Assuming df is your DataFrame with Timestamp objects\n",
        "  print(\"Preparing data to send to sheet. \")\n",
        "  df_to_append = pd.DataFrame({\n",
        "      'date': df['date'].astype(str),  # Convert Timestamp to string\n",
        "      'message': df['message']\n",
        "  })\n",
        "\n",
        "  # Append the new data to the existing data\n",
        "  print(\"Appending data to existing .\")\n",
        "  updated_data = data + df_to_append.values.tolist()\n",
        "\n",
        "  # Update the Google Sheet with the combined data\n",
        "  sheet.update('A1', updated_data)\n",
        "  print(\"Process completed!\")\n"
      ],
      "metadata": {
        "id": "tRDT6C1Q7Nw1"
      },
      "execution_count": null,
      "outputs": []
    },
    {
      "cell_type": "markdown",
      "source": [
        "#Main Function"
      ],
      "metadata": {
        "id": "K5oVnGv6HAEA"
      }
    },
    {
      "cell_type": "code",
      "source": [
        "def main():\n",
        "\n",
        "  # Replace with your actual values\n",
        "  api_id = userdata.get('telegram_api_id')\n",
        "  api_hash = userdata.get('telegram_api_hash')\n",
        "  channel_username = 'waihin'\n",
        "  limit = 20\n",
        "  sheetname ='waihin_python'\n",
        "  sheet_address = 'https://docs.google.com/spreadsheets/d/1PlJWvJgmsrMG0tX5bHJ0Bv8QzjQMQOlXlcV-s2kMooY/edit#gid=1486421084'\n",
        "\n",
        "\n",
        "  #Shuld be year /month/ date format.\n",
        "  start_date = datetime(2023, 12, 9, tzinfo=timezone.utc)\n",
        "  end_date = datetime(2023, 12, 11, tzinfo=timezone.utc)\n",
        "\n",
        "  #Choose method scrape by message or scrape by date. If scrape by  date , provide starting date and ending date.\n",
        "\n",
        "  #messages_data = scrape_by_message(api_id,api_hash,channel_username,limit)\n",
        "  messages_data = scrape_by_date(api_id, api_hash, channel_username, start_date, end_date)\n",
        "\n",
        "  print(\"Creating dataframe.\")\n",
        "  df = pd.DataFrame(messages_data)\n",
        "  # Display the DataFrame\n",
        "  print(df)\n",
        "  # Save to Google Sheet\n",
        "  save_to_sheet(df,sheetname, sheet_address)\n",
        "\n"
      ],
      "metadata": {
        "id": "15qAvlTaGo10"
      },
      "execution_count": null,
      "outputs": []
    },
    {
      "cell_type": "code",
      "source": [
        "main()"
      ],
      "metadata": {
        "id": "lyTfQgvHGrgZ"
      },
      "execution_count": null,
      "outputs": []
    }
  ]
}